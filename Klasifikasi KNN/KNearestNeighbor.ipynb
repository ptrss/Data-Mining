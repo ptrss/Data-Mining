{
  "cells": [
    {
      "cell_type": "code",
      "execution_count": 1,
      "metadata": {
        "id": "eIroVyCLINmc"
      },
      "outputs": [],
      "source": [
        "import numpy as np\n",
        "import matplotlib.pyplot as plt\n",
        "import pandas as pd"
      ]
    },
    {
      "cell_type": "code",
      "execution_count": 2,
      "metadata": {
        "id": "yIh-nYw-OBR3"
      },
      "outputs": [],
      "source": [
        "dataset = pd.read_csv('Naive-Bayes-Classification-Data.csv')"
      ]
    },
    {
      "cell_type": "code",
      "execution_count": 3,
      "metadata": {
        "id": "Uk9LtmduOL3X"
      },
      "outputs": [
        {
          "data": {
            "text/html": [
              "<div>\n",
              "<style scoped>\n",
              "    .dataframe tbody tr th:only-of-type {\n",
              "        vertical-align: middle;\n",
              "    }\n",
              "\n",
              "    .dataframe tbody tr th {\n",
              "        vertical-align: top;\n",
              "    }\n",
              "\n",
              "    .dataframe thead th {\n",
              "        text-align: right;\n",
              "    }\n",
              "</style>\n",
              "<table border=\"1\" class=\"dataframe\">\n",
              "  <thead>\n",
              "    <tr style=\"text-align: right;\">\n",
              "      <th></th>\n",
              "      <th>glucose</th>\n",
              "      <th>bloodpressure</th>\n",
              "      <th>diabetes</th>\n",
              "    </tr>\n",
              "  </thead>\n",
              "  <tbody>\n",
              "    <tr>\n",
              "      <th>0</th>\n",
              "      <td>40</td>\n",
              "      <td>85</td>\n",
              "      <td>0</td>\n",
              "    </tr>\n",
              "    <tr>\n",
              "      <th>1</th>\n",
              "      <td>40</td>\n",
              "      <td>92</td>\n",
              "      <td>0</td>\n",
              "    </tr>\n",
              "    <tr>\n",
              "      <th>2</th>\n",
              "      <td>45</td>\n",
              "      <td>63</td>\n",
              "      <td>1</td>\n",
              "    </tr>\n",
              "    <tr>\n",
              "      <th>3</th>\n",
              "      <td>45</td>\n",
              "      <td>80</td>\n",
              "      <td>0</td>\n",
              "    </tr>\n",
              "    <tr>\n",
              "      <th>4</th>\n",
              "      <td>40</td>\n",
              "      <td>73</td>\n",
              "      <td>1</td>\n",
              "    </tr>\n",
              "  </tbody>\n",
              "</table>\n",
              "</div>"
            ],
            "text/plain": [
              "   glucose  bloodpressure  diabetes\n",
              "0       40             85         0\n",
              "1       40             92         0\n",
              "2       45             63         1\n",
              "3       45             80         0\n",
              "4       40             73         1"
            ]
          },
          "execution_count": 3,
          "metadata": {},
          "output_type": "execute_result"
        }
      ],
      "source": [
        "dataset.head()"
      ]
    },
    {
      "cell_type": "code",
      "execution_count": 4,
      "metadata": {
        "id": "JSjQmdLbOUIW"
      },
      "outputs": [],
      "source": [
        "x = dataset.iloc[:, :-1].values\n",
        "y = dataset.iloc[:, -1].values"
      ]
    },
    {
      "cell_type": "code",
      "execution_count": 5,
      "metadata": {
        "id": "S2CRNcUsOpgj"
      },
      "outputs": [
        {
          "name": "stdout",
          "output_type": "stream",
          "text": [
            "[[40 85]\n",
            " [40 92]\n",
            " [45 63]\n",
            " ...\n",
            " [40 83]\n",
            " [40 60]\n",
            " [45 82]]\n",
            "[0 0 1 0 1 0 0 1 1 0 1 0 1 0 1 1 1 1 1 1 1 0 1 0 0 1 0 0 0 1 1 1 1 0 1 1 0\n",
            " 1 0 0 1 1 0 0 0 0 1 1 0 0 0 0 1 1 1 0 1 0 0 1 0 1 1 1 0 0 1 0 0 0 0 0 1 0\n",
            " 0 1 0 0 1 1 1 0 0 0 0 1 0 0 0 1 0 1 1 1 0 0 1 0 1 0 0 0 0 1 0 0 1 1 1 0 1\n",
            " 0 0 1 1 0 1 1 0 1 0 0 1 1 0 1 0 1 0 0 0 1 0 0 0 1 1 1 1 0 1 0 1 0 0 0 1 0\n",
            " 0 1 1 0 0 1 1 0 0 0 1 0 1 1 0 0 0 1 1 1 0 0 1 0 1 0 0 0 1 0 1 0 0 0 1 1 0\n",
            " 1 1 0 1 1 0 0 0 1 0 0 0 0 1 1 1 1 1 0 1 0 1 0 0 1 1 1 0 0 1 0 0 0 0 0 1 0\n",
            " 1 0 1 0 0 0 1 1 0 0 0 0 0 0 1 1 0 0 0 1 1 0 0 1 1 1 1 1 1 1 0 1 0 1 1 0 0\n",
            " 0 1 1 0 0 1 1 1 0 0 0 1 0 1 1 0 1 1 0 1 0 1 1 0 1 1 1 1 1 1 1 0 1 1 0 1 1\n",
            " 1 1 1 1 0 1 1 0 1 0 1 1 0 0 0 1 1 1 1 0 0 0 0 1 0 1 1 0 1 1 0 1 1 1 0 1 1\n",
            " 0 1 1 1 0 0 0 0 0 1 0 0 0 0 1 1 1 0 1 0 0 1 0 1 0 1 0 0 1 0 0 1 0 0 1 0 1\n",
            " 0 1 0 1 1 1 0 1 0 1 1 1 1 0 1 1 0 1 1 0 0 1 1 0 0 1 1 1 0 1 0 0 0 1 1 0 1\n",
            " 0 1 0 1 1 1 0 0 1 0 0 1 0 1 0 1 0 0 1 1 0 1 0 1 1 1 1 0 0 0 1 1 0 0 1 1 1\n",
            " 0 0 0 0 1 0 1 1 0 0 0 0 1 0 0 0 0 0 1 0 0 1 0 0 0 0 1 1 1 0 1 1 0 1 0 1 1\n",
            " 0 0 1 1 1 0 0 0 1 1 1 0 1 0 1 1 1 1 1 1 1 0 1 0 1 1 0 0 0 1 1 1 0 1 1 1 1\n",
            " 0 1 0 0 0 0 1 1 0 1 1 1 0 1 1 1 0 1 0 1 1 1 0 1 0 1 1 0 1 0 0 1 0 1 1 0 1\n",
            " 0 1 0 0 0 1 1 0 1 1 0 0 1 1 0 1 1 0 0 1 0 0 0 0 0 0 1 0 0 0 0 0 1 1 0 0 1\n",
            " 0 1 1 0 0 1 0 1 0 1 1 1 1 1 1 0 1 0 1 0 1 1 1 1 0 0 0 1 1 1 0 1 1 0 1 1 0\n",
            " 0 0 1 0 0 1 0 0 0 0 0 0 1 1 1 0 0 1 0 0 0 1 1 1 0 0 1 1 0 0 0 1 0 1 1 1 0\n",
            " 0 1 1 1 1 0 1 1 1 1 1 1 1 0 1 1 1 1 1 0 0 0 0 0 0 1 1 1 0 1 0 1 1 0 0 1 0\n",
            " 1 0 0 1 0 0 0 1 0 1 1 1 0 1 0 1 1 0 0 0 1 1 1 0 1 1 1 0 0 0 0 0 1 0 0 1 1\n",
            " 1 0 1 1 1 0 0 0 0 1 0 1 1 1 0 0 1 1 0 1 1 1 0 0 1 1 0 1 1 1 1 1 0 0 1 0 1\n",
            " 1 0 0 1 0 1 1 0 0 1 0 1 1 1 0 1 1 1 0 0 0 0 0 1 0 0 1 0 0 0 1 1 0 0 1 1 1\n",
            " 0 1 1 1 1 1 1 0 1 0 0 1 0 0 1 1 1 1 0 0 0 1 0 0 0 1 1 0 1 0 1 0 0 0 0 0 1\n",
            " 1 1 1 1 0 0 1 1 0 1 0 1 0 1 0 0 0 0 0 1 0 0 1 1 0 1 0 0 0 1 0 1 1 0 0 0 1\n",
            " 0 0 0 0 1 0 0 0 0 0 1 1 0 0 0 0 0 0 1 1 0 0 0 1 1 0 0 1 0 1 0 0 1 0 0 0 0\n",
            " 0 0 0 0 1 1 1 0 1 0 1 1 0 1 0 0 1 1 1 1 0 0 1 1 1 0 0 1 0 1 1 0 1 1 0 1 1\n",
            " 0 0 1 0 1 1 0 0 1 1 0 1 0 0 1 0 0 1 1 1 1 1 1 1 0 0 0 1 0 0 0 1 0]\n"
          ]
        }
      ],
      "source": [
        "print(x)\n",
        "print(y)"
      ]
    },
    {
      "cell_type": "code",
      "execution_count": 18,
      "metadata": {
        "id": "7QkRn8UTOytY"
      },
      "outputs": [],
      "source": [
        "from sklearn.model_selection import train_test_split\n",
        "\n",
        "x_train, x_test, y_train, y_test = train_test_split(x, y, test_size = 0.30, random_state = 0)"
      ]
    },
    {
      "cell_type": "code",
      "execution_count": 19,
      "metadata": {
        "id": "exiv7EWJPVku"
      },
      "outputs": [
        {
          "name": "stdout",
          "output_type": "stream",
          "text": [
            "x        :  995\n",
            "x_train  :  696\n",
            "x_test   :  299\n"
          ]
        }
      ],
      "source": [
        "a = len(x)\n",
        "b = len(x_train)\n",
        "c = len(x_test)\n",
        "\n",
        "print(\"x        : \", a)\n",
        "print(\"x_train  : \", b)\n",
        "print(\"x_test   : \", c)"
      ]
    },
    {
      "cell_type": "code",
      "execution_count": 20,
      "metadata": {
        "id": "G2siJgTYPi9-"
      },
      "outputs": [
        {
          "name": "stdout",
          "output_type": "stream",
          "text": [
            "y        :  995\n",
            "y_train  :  696\n",
            "y_test   :  299\n"
          ]
        }
      ],
      "source": [
        "a = len(y)\n",
        "b = len(y_train)\n",
        "c = len(y_test)\n",
        "\n",
        "print(\"y        : \", a)\n",
        "print(\"y_train  : \", b)\n",
        "print(\"y_test   : \", c)"
      ]
    },
    {
      "cell_type": "code",
      "execution_count": 21,
      "metadata": {
        "id": "0jkUNuzmQOPi"
      },
      "outputs": [],
      "source": [
        "from sklearn.preprocessing import StandardScaler\n",
        "\n",
        "sc = StandardScaler()\n",
        "x_train = sc.fit_transform(x_train)\n",
        "x_test = sc.transform(x_test)"
      ]
    },
    {
      "cell_type": "code",
      "execution_count": 22,
      "metadata": {
        "id": "kINpTXhGQjIe"
      },
      "outputs": [
        {
          "name": "stdout",
          "output_type": "stream",
          "text": [
            "x_train : [[ 0.08432733  0.36167848]\n",
            " [ 0.08432733  0.57766151]\n",
            " [-0.66813193 -0.71823667]\n",
            " ...\n",
            " [-0.66813193  0.36167848]\n",
            " [ 0.83678659  1.11761908]\n",
            " [ 0.83678659 -0.50225364]]\n",
            "x_test  : [[ 1.58924584 -0.71823667]\n",
            " [-0.66813193 -0.71823667]\n",
            " [ 0.83678659 -1.25819424]\n",
            " [-0.66813193  0.25368696]\n",
            " [-0.66813193  0.57766151]\n",
            " [ 0.83678659  1.65757665]\n",
            " [ 0.83678659 -1.04221121]\n",
            " [-0.66813193 -1.36618576]\n",
            " [ 0.08432733  0.25368696]\n",
            " [ 0.08432733 -1.25819424]\n",
            " [ 0.08432733  1.65757665]\n",
            " [ 0.08432733  0.79364454]\n",
            " [-0.66813193 -1.04221121]\n",
            " [ 2.3417051  -1.79815181]\n",
            " [ 0.08432733 -1.36618576]\n",
            " [-0.66813193 -0.28627061]\n",
            " [ 0.08432733 -0.50225364]\n",
            " [ 0.08432733  1.33360211]\n",
            " [-0.66813193 -1.04221121]\n",
            " [-1.42059118  0.03770393]\n",
            " [-0.66813193  0.90163605]\n",
            " [-0.66813193  0.90163605]\n",
            " [-0.66813193  0.03770393]\n",
            " [-0.66813193  0.36167848]\n",
            " [ 0.83678659 -1.36618576]\n",
            " [-1.42059118 -1.36618576]\n",
            " [ 0.08432733 -0.71823667]\n",
            " [-0.66813193  0.03770393]\n",
            " [ 0.08432733  0.36167848]\n",
            " [ 0.08432733  0.57766151]\n",
            " [-1.42059118 -1.36618576]\n",
            " [ 0.83678659 -1.04221121]\n",
            " [ 0.83678659  1.11761908]\n",
            " [-0.66813193  1.33360211]\n",
            " [-0.66813193  0.36167848]\n",
            " [ 0.83678659 -0.28627061]\n",
            " [ 0.08432733  0.36167848]\n",
            " [-0.66813193 -1.04221121]\n",
            " [-0.66813193 -1.58216879]\n",
            " [ 0.83678659 -1.58216879]\n",
            " [ 1.58924584 -1.58216879]\n",
            " [ 1.58924584 -0.50225364]\n",
            " [-0.66813193  1.11761908]\n",
            " [ 0.08432733  1.33360211]\n",
            " [ 0.08432733  1.11761908]\n",
            " [ 0.83678659 -0.28627061]\n",
            " [ 0.83678659  0.90163605]\n",
            " [-2.17305044  0.03770393]\n",
            " [-0.66813193  0.36167848]\n",
            " [ 0.08432733  1.33360211]\n",
            " [ 0.08432733  0.90163605]\n",
            " [ 0.08432733  1.11761908]\n",
            " [ 0.08432733 -0.1782791 ]\n",
            " [ 0.08432733  0.90163605]\n",
            " [ 0.08432733  0.90163605]\n",
            " [-0.66813193  0.79364454]\n",
            " [ 1.58924584  0.79364454]\n",
            " [ 0.83678659 -0.1782791 ]\n",
            " [-2.17305044 -1.04221121]\n",
            " [ 0.83678659  0.57766151]\n",
            " [ 1.58924584 -1.25819424]\n",
            " [ 0.08432733  0.03770393]\n",
            " [-3.67796895 -1.04221121]\n",
            " [-0.66813193  1.11761908]\n",
            " [-0.66813193 -1.36618576]\n",
            " [-1.42059118  0.36167848]\n",
            " [ 0.08432733  0.79364454]\n",
            " [-0.66813193 -1.04221121]\n",
            " [-1.42059118 -0.28627061]\n",
            " [ 1.58924584 -1.25819424]\n",
            " [-0.66813193  0.79364454]\n",
            " [-0.66813193 -1.36618576]\n",
            " [ 0.08432733  0.25368696]\n",
            " [-2.17305044 -0.28627061]\n",
            " [-0.66813193  0.90163605]\n",
            " [-0.66813193 -1.79815181]\n",
            " [-0.66813193 -0.50225364]\n",
            " [ 0.83678659 -2.12212636]\n",
            " [ 0.83678659  0.36167848]\n",
            " [ 0.08432733 -0.28627061]\n",
            " [ 0.83678659  0.36167848]\n",
            " [ 1.58924584 -2.12212636]\n",
            " [ 1.58924584 -1.36618576]\n",
            " [ 0.83678659 -0.28627061]\n",
            " [-1.42059118  0.79364454]\n",
            " [-1.42059118 -1.04221121]\n",
            " [ 0.08432733  0.36167848]\n",
            " [-0.66813193  0.79364454]\n",
            " [ 0.08432733 -0.28627061]\n",
            " [ 0.08432733  0.57766151]\n",
            " [ 0.83678659 -2.33810939]\n",
            " [ 0.08432733  0.79364454]\n",
            " [-0.66813193  1.11761908]\n",
            " [ 0.08432733  0.25368696]\n",
            " [ 1.58924584 -1.79815181]\n",
            " [ 0.08432733  0.79364454]\n",
            " [-1.42059118 -1.25819424]\n",
            " [-0.66813193  0.57766151]\n",
            " [-0.66813193  1.11761908]\n",
            " [-0.66813193 -0.1782791 ]\n",
            " [ 0.83678659  0.90163605]\n",
            " [ 0.08432733  0.25368696]\n",
            " [-1.42059118 -0.1782791 ]\n",
            " [ 0.08432733  0.25368696]\n",
            " [ 0.08432733  0.03770393]\n",
            " [ 0.08432733  1.65757665]\n",
            " [-1.42059118  1.11761908]\n",
            " [ 0.08432733 -0.50225364]\n",
            " [ 1.58924584 -1.36618576]\n",
            " [ 0.08432733  0.90163605]\n",
            " [ 0.08432733  0.03770393]\n",
            " [-0.66813193 -1.36618576]\n",
            " [ 0.08432733 -1.25819424]\n",
            " [-0.66813193  1.44159362]\n",
            " [ 0.83678659 -0.71823667]\n",
            " [-2.17305044 -0.71823667]\n",
            " [ 0.08432733  0.03770393]\n",
            " [-0.66813193  0.25368696]\n",
            " [-0.66813193  0.03770393]\n",
            " [ 0.83678659 -0.71823667]\n",
            " [ 0.83678659 -0.28627061]\n",
            " [-0.66813193  0.57766151]\n",
            " [ 0.83678659 -1.25819424]\n",
            " [-0.66813193 -0.1782791 ]\n",
            " [ 0.08432733 -1.90614333]\n",
            " [ 0.08432733  0.57766151]\n",
            " [ 0.83678659  0.90163605]\n",
            " [ 1.58924584 -1.25819424]\n",
            " [-0.66813193 -0.82622818]\n",
            " [ 0.08432733  0.79364454]\n",
            " [-1.42059118 -0.82622818]\n",
            " [ 3.09416435 -1.58216879]\n",
            " [ 0.08432733 -0.1782791 ]\n",
            " [ 0.08432733 -0.28627061]\n",
            " [ 0.08432733  1.33360211]\n",
            " [-0.66813193  1.44159362]\n",
            " [ 0.83678659 -1.58216879]\n",
            " [-0.66813193 -0.82622818]\n",
            " [-0.66813193  0.90163605]\n",
            " [-0.66813193  0.79364454]\n",
            " [ 0.08432733 -2.4461009 ]\n",
            " [ 0.08432733 -0.82622818]\n",
            " [ 0.83678659 -1.25819424]\n",
            " [ 0.08432733 -1.04221121]\n",
            " [-0.66813193  0.36167848]\n",
            " [ 0.08432733 -0.28627061]\n",
            " [ 0.08432733  0.90163605]\n",
            " [-0.66813193  0.25368696]\n",
            " [-0.66813193  0.79364454]\n",
            " [ 0.08432733 -0.71823667]\n",
            " [ 2.3417051  -1.25819424]\n",
            " [-0.66813193  1.33360211]\n",
            " [-0.66813193 -1.25819424]\n",
            " [ 0.83678659  0.03770393]\n",
            " [ 1.58924584 -0.1782791 ]\n",
            " [ 0.08432733  0.25368696]\n",
            " [-1.42059118 -0.1782791 ]\n",
            " [ 0.83678659 -1.36618576]\n",
            " [-0.66813193 -0.82622818]\n",
            " [-2.92550969 -0.71823667]\n",
            " [-1.42059118  0.90163605]\n",
            " [ 0.83678659 -1.90614333]\n",
            " [ 0.83678659  1.11761908]\n",
            " [ 0.08432733  1.11761908]\n",
            " [ 0.08432733 -0.82622818]\n",
            " [-0.66813193  1.33360211]\n",
            " [-1.42059118  0.03770393]\n",
            " [-2.17305044  0.25368696]\n",
            " [-0.66813193 -0.50225364]\n",
            " [ 0.08432733  0.36167848]\n",
            " [ 0.83678659  0.25368696]\n",
            " [-0.66813193  0.36167848]\n",
            " [ 0.83678659  0.03770393]\n",
            " [ 0.08432733  0.36167848]\n",
            " [-0.66813193  1.33360211]\n",
            " [ 0.08432733  0.36167848]\n",
            " [ 0.08432733  0.36167848]\n",
            " [ 0.08432733 -0.50225364]\n",
            " [-0.66813193 -0.71823667]\n",
            " [ 0.08432733 -1.25819424]\n",
            " [ 1.58924584 -1.25819424]\n",
            " [ 0.08432733  1.44159362]\n",
            " [-2.17305044 -0.50225364]\n",
            " [-1.42059118 -1.90614333]\n",
            " [ 1.58924584  1.44159362]\n",
            " [ 0.08432733  0.25368696]\n",
            " [-0.66813193 -2.12212636]\n",
            " [ 0.83678659  0.03770393]\n",
            " [-0.66813193 -1.04221121]\n",
            " [-0.66813193 -0.28627061]\n",
            " [ 0.08432733  0.90163605]\n",
            " [ 0.08432733 -0.28627061]\n",
            " [-0.66813193  0.57766151]\n",
            " [ 0.83678659 -2.33810939]\n",
            " [ 2.3417051  -1.25819424]\n",
            " [-0.66813193  0.36167848]\n",
            " [ 0.08432733 -0.50225364]\n",
            " [ 0.08432733  0.03770393]\n",
            " [ 3.84662361 -1.90614333]\n",
            " [ 0.08432733 -0.71823667]\n",
            " [ 0.08432733 -2.12212636]\n",
            " [-0.66813193  0.79364454]\n",
            " [ 1.58924584 -2.12212636]\n",
            " [ 0.08432733 -0.71823667]\n",
            " [-0.66813193 -1.58216879]\n",
            " [-0.66813193 -1.36618576]\n",
            " [-0.66813193  0.79364454]\n",
            " [-0.66813193  1.11761908]\n",
            " [-0.66813193 -0.71823667]\n",
            " [ 0.08432733 -0.1782791 ]\n",
            " [-0.66813193 -1.25819424]\n",
            " [ 2.3417051  -1.90614333]\n",
            " [ 0.08432733  0.25368696]\n",
            " [ 1.58924584 -0.50225364]\n",
            " [-2.92550969 -1.04221121]\n",
            " [-0.66813193 -0.50225364]\n",
            " [-1.42059118  0.90163605]\n",
            " [-0.66813193 -0.1782791 ]\n",
            " [-0.66813193  0.90163605]\n",
            " [-0.66813193 -0.50225364]\n",
            " [-1.42059118 -0.50225364]\n",
            " [-0.66813193  0.79364454]\n",
            " [ 0.08432733 -0.71823667]\n",
            " [ 0.83678659  1.11761908]\n",
            " [ 0.08432733 -0.82622818]\n",
            " [-1.42059118 -0.28627061]\n",
            " [-1.42059118 -1.90614333]\n",
            " [ 0.08432733 -1.25819424]\n",
            " [ 1.58924584 -1.79815181]\n",
            " [ 0.08432733  0.25368696]\n",
            " [ 0.83678659  0.36167848]\n",
            " [ 1.58924584 -0.82622818]\n",
            " [ 0.83678659 -1.36618576]\n",
            " [-1.42059118 -1.04221121]\n",
            " [ 0.08432733  1.87355968]\n",
            " [ 0.08432733  0.25368696]\n",
            " [-0.66813193  0.79364454]\n",
            " [ 0.08432733 -1.79815181]\n",
            " [ 2.3417051  -1.79815181]\n",
            " [-3.67796895  0.03770393]\n",
            " [ 0.08432733 -0.1782791 ]\n",
            " [-0.66813193  0.79364454]\n",
            " [ 0.83678659 -1.04221121]\n",
            " [ 0.08432733  1.11761908]\n",
            " [ 0.83678659 -1.36618576]\n",
            " [-1.42059118 -0.82622818]\n",
            " [ 0.08432733  1.11761908]\n",
            " [ 0.83678659 -0.71823667]\n",
            " [ 0.08432733  1.11761908]\n",
            " [ 0.08432733  1.11761908]\n",
            " [ 0.08432733 -0.71823667]\n",
            " [-0.66813193  1.33360211]\n",
            " [ 0.08432733  0.90163605]\n",
            " [-1.42059118 -1.04221121]\n",
            " [ 0.83678659 -0.28627061]\n",
            " [ 0.08432733  1.11761908]\n",
            " [ 0.08432733  0.90163605]\n",
            " [ 0.83678659  1.33360211]\n",
            " [ 0.83678659 -1.36618576]\n",
            " [ 1.58924584 -1.25819424]\n",
            " [-0.66813193 -0.50225364]\n",
            " [-1.42059118 -0.28627061]\n",
            " [ 0.08432733  1.33360211]\n",
            " [ 0.08432733  0.36167848]\n",
            " [ 1.58924584 -0.82622818]\n",
            " [ 0.83678659 -1.36618576]\n",
            " [-0.66813193  0.79364454]\n",
            " [-0.66813193  1.11761908]\n",
            " [ 0.08432733 -0.1782791 ]\n",
            " [ 0.83678659  0.57766151]\n",
            " [ 0.83678659 -1.36618576]\n",
            " [ 0.08432733  0.79364454]\n",
            " [-0.66813193  1.44159362]\n",
            " [-0.66813193 -0.82622818]\n",
            " [ 0.08432733 -0.71823667]\n",
            " [ 0.83678659  0.03770393]\n",
            " [-1.42059118 -1.25819424]\n",
            " [-1.42059118 -0.71823667]\n",
            " [ 0.08432733 -0.1782791 ]\n",
            " [-0.66813193  1.44159362]\n",
            " [ 0.08432733  0.90163605]\n",
            " [-0.66813193  0.57766151]\n",
            " [-0.66813193  0.90163605]\n",
            " [ 0.83678659  0.36167848]\n",
            " [ 2.3417051  -1.36618576]\n",
            " [-0.66813193  1.9815512 ]\n",
            " [ 1.58924584 -1.36618576]\n",
            " [-0.66813193 -0.50225364]\n",
            " [ 0.08432733 -3.2020415 ]\n",
            " [ 1.58924584 -0.71823667]\n",
            " [ 0.08432733  0.36167848]\n",
            " [-2.17305044 -0.50225364]\n",
            " [-0.66813193 -0.28627061]\n",
            " [-1.42059118 -0.71823667]\n",
            " [ 0.08432733  0.57766151]\n",
            " [ 0.08432733  0.25368696]\n",
            " [-1.42059118 -1.04221121]\n",
            " [ 0.83678659  0.36167848]\n",
            " [-0.66813193  1.33360211]]\n"
          ]
        }
      ],
      "source": [
        "print(\"x_train :\", x_train)\n",
        "print(\"x_test  :\", x_test)"
      ]
    },
    {
      "cell_type": "code",
      "execution_count": 23,
      "metadata": {
        "colab": {
          "base_uri": "https://localhost:8080/"
        },
        "id": "o1xqfGbuQxEg",
        "outputId": "d3c5548d-5794-4bd8-c47c-c71d60d2bf3e"
      },
      "outputs": [
        {
          "data": {
            "text/html": [
              "<style>#sk-container-id-1 {color: black;background-color: white;}#sk-container-id-1 pre{padding: 0;}#sk-container-id-1 div.sk-toggleable {background-color: white;}#sk-container-id-1 label.sk-toggleable__label {cursor: pointer;display: block;width: 100%;margin-bottom: 0;padding: 0.3em;box-sizing: border-box;text-align: center;}#sk-container-id-1 label.sk-toggleable__label-arrow:before {content: \"▸\";float: left;margin-right: 0.25em;color: #696969;}#sk-container-id-1 label.sk-toggleable__label-arrow:hover:before {color: black;}#sk-container-id-1 div.sk-estimator:hover label.sk-toggleable__label-arrow:before {color: black;}#sk-container-id-1 div.sk-toggleable__content {max-height: 0;max-width: 0;overflow: hidden;text-align: left;background-color: #f0f8ff;}#sk-container-id-1 div.sk-toggleable__content pre {margin: 0.2em;color: black;border-radius: 0.25em;background-color: #f0f8ff;}#sk-container-id-1 input.sk-toggleable__control:checked~div.sk-toggleable__content {max-height: 200px;max-width: 100%;overflow: auto;}#sk-container-id-1 input.sk-toggleable__control:checked~label.sk-toggleable__label-arrow:before {content: \"▾\";}#sk-container-id-1 div.sk-estimator input.sk-toggleable__control:checked~label.sk-toggleable__label {background-color: #d4ebff;}#sk-container-id-1 div.sk-label input.sk-toggleable__control:checked~label.sk-toggleable__label {background-color: #d4ebff;}#sk-container-id-1 input.sk-hidden--visually {border: 0;clip: rect(1px 1px 1px 1px);clip: rect(1px, 1px, 1px, 1px);height: 1px;margin: -1px;overflow: hidden;padding: 0;position: absolute;width: 1px;}#sk-container-id-1 div.sk-estimator {font-family: monospace;background-color: #f0f8ff;border: 1px dotted black;border-radius: 0.25em;box-sizing: border-box;margin-bottom: 0.5em;}#sk-container-id-1 div.sk-estimator:hover {background-color: #d4ebff;}#sk-container-id-1 div.sk-parallel-item::after {content: \"\";width: 100%;border-bottom: 1px solid gray;flex-grow: 1;}#sk-container-id-1 div.sk-label:hover label.sk-toggleable__label {background-color: #d4ebff;}#sk-container-id-1 div.sk-serial::before {content: \"\";position: absolute;border-left: 1px solid gray;box-sizing: border-box;top: 0;bottom: 0;left: 50%;z-index: 0;}#sk-container-id-1 div.sk-serial {display: flex;flex-direction: column;align-items: center;background-color: white;padding-right: 0.2em;padding-left: 0.2em;position: relative;}#sk-container-id-1 div.sk-item {position: relative;z-index: 1;}#sk-container-id-1 div.sk-parallel {display: flex;align-items: stretch;justify-content: center;background-color: white;position: relative;}#sk-container-id-1 div.sk-item::before, #sk-container-id-1 div.sk-parallel-item::before {content: \"\";position: absolute;border-left: 1px solid gray;box-sizing: border-box;top: 0;bottom: 0;left: 50%;z-index: -1;}#sk-container-id-1 div.sk-parallel-item {display: flex;flex-direction: column;z-index: 1;position: relative;background-color: white;}#sk-container-id-1 div.sk-parallel-item:first-child::after {align-self: flex-end;width: 50%;}#sk-container-id-1 div.sk-parallel-item:last-child::after {align-self: flex-start;width: 50%;}#sk-container-id-1 div.sk-parallel-item:only-child::after {width: 0;}#sk-container-id-1 div.sk-dashed-wrapped {border: 1px dashed gray;margin: 0 0.4em 0.5em 0.4em;box-sizing: border-box;padding-bottom: 0.4em;background-color: white;}#sk-container-id-1 div.sk-label label {font-family: monospace;font-weight: bold;display: inline-block;line-height: 1.2em;}#sk-container-id-1 div.sk-label-container {text-align: center;}#sk-container-id-1 div.sk-container {/* jupyter's `normalize.less` sets `[hidden] { display: none; }` but bootstrap.min.css set `[hidden] { display: none !important; }` so we also need the `!important` here to be able to override the default hidden behavior on the sphinx rendered scikit-learn.org. See: https://github.com/scikit-learn/scikit-learn/issues/21755 */display: inline-block !important;position: relative;}#sk-container-id-1 div.sk-text-repr-fallback {display: none;}</style><div id=\"sk-container-id-1\" class=\"sk-top-container\"><div class=\"sk-text-repr-fallback\"><pre>KNeighborsClassifier(n_neighbors=7)</pre><b>In a Jupyter environment, please rerun this cell to show the HTML representation or trust the notebook. <br />On GitHub, the HTML representation is unable to render, please try loading this page with nbviewer.org.</b></div><div class=\"sk-container\" hidden><div class=\"sk-item\"><div class=\"sk-estimator sk-toggleable\"><input class=\"sk-toggleable__control sk-hidden--visually\" id=\"sk-estimator-id-1\" type=\"checkbox\" checked><label for=\"sk-estimator-id-1\" class=\"sk-toggleable__label sk-toggleable__label-arrow\">KNeighborsClassifier</label><div class=\"sk-toggleable__content\"><pre>KNeighborsClassifier(n_neighbors=7)</pre></div></div></div></div></div>"
            ],
            "text/plain": [
              "KNeighborsClassifier(n_neighbors=7)"
            ]
          },
          "execution_count": 23,
          "metadata": {},
          "output_type": "execute_result"
        }
      ],
      "source": [
        "from sklearn.neighbors import KNeighborsClassifier\n",
        "\n",
        "classifier = KNeighborsClassifier(n_neighbors = 7, metric = 'minkowski', p=2)\n",
        "classifier.fit(x_train, y_train)"
      ]
    },
    {
      "cell_type": "code",
      "execution_count": 24,
      "metadata": {
        "id": "fvuzYNmERYay"
      },
      "outputs": [],
      "source": [
        "y_pred = classifier.predict(x_test)"
      ]
    },
    {
      "cell_type": "code",
      "execution_count": 25,
      "metadata": {
        "colab": {
          "base_uri": "https://localhost:8080/"
        },
        "id": "6Dn3Vyf4Rf9u",
        "outputId": "42d9156b-6443-41f5-b5e1-4e6ef1e2977e"
      },
      "outputs": [
        {
          "name": "stdout",
          "output_type": "stream",
          "text": [
            "[[121  10]\n",
            " [ 17 151]]\n"
          ]
        }
      ],
      "source": [
        "from sklearn.metrics import confusion_matrix\n",
        "cm = confusion_matrix(y_test, y_pred)\n",
        "print(cm)"
      ]
    },
    {
      "cell_type": "code",
      "execution_count": 28,
      "metadata": {
        "colab": {
          "base_uri": "https://localhost:8080/",
          "height": 349
        },
        "id": "B0OIxP9eSBRX",
        "outputId": "69239779-95a3-49ca-847b-9d431b8929dc"
      },
      "outputs": [
        {
          "name": "stderr",
          "output_type": "stream",
          "text": [
            "C:\\Users\\LENOVO\\AppData\\Local\\Temp\\ipykernel_22104\\120865978.py:10: UserWarning: *c* argument looks like a single numeric RGB or RGBA sequence, which should be avoided as value-mapping will have precedence in case its length matches with *x* & *y*.  Please use the *color* keyword-argument or provide a 2D array with a single row if you intend to specify the same RGB or RGBA value for all points.\n",
            "  plt.scatter(x_set[y_set == j, 0], x_set[y_set == j, 1],\n"
          ]
        },
        {
          "data": {
            "image/png": "[encoded data removed]",
            "text/plain": [
              "<Figure size 640x480 with 1 Axes>"
            ]
          },
          "metadata": {},
          "output_type": "display_data"
        }
      ],
      "source": [
        "from matplotlib.colors import ListedColormap\n",
        "x_set, y_set = x_train, y_train\n",
        "x1, x2 = np.meshgrid(np.arange(start=x_set[:, 0].min()-1, stop=x_set[:, 0].max()+1, step=0.01),\n",
        "                     np.arange(start=x_set[:, 1].min()-1, stop=x_set[:, 1].max()+1, step=0.01))\n",
        "plt.contourf(x1, x2, classifier.predict(np.array([x1.ravel(), x2.ravel()]).T).reshape(x1.shape),\n",
        "             alpha = 0.75, cmap = ListedColormap(('red', 'green')))\n",
        "plt.xlim(x1.min(), x1.max())\n",
        "plt.ylim(x2.min(), x2.max())\n",
        "for i, j in enumerate (np.unique(y_set)):\n",
        "  plt.scatter(x_set[y_set == j, 0], x_set[y_set == j, 1],\n",
        "              c = ListedColormap(('red', 'green'))(i), label = j)\n",
        "plt.title('K-NN (Training Set)')\n",
        "plt.xlabel('Glucose')\n",
        "plt.ylabel('BloodPressure')\n",
        "plt.legend()\n",
        "plt.show()"
      ]
    },
    {
      "cell_type": "code",
      "execution_count": 29,
      "metadata": {
        "colab": {
          "base_uri": "https://localhost:8080/",
          "height": 349
        },
        "id": "MoyvZF7LVTpC",
        "outputId": "5b940e48-fdeb-45b6-c6ca-02ab9ca6b001"
      },
      "outputs": [
        {
          "name": "stderr",
          "output_type": "stream",
          "text": [
            "C:\\Users\\LENOVO\\AppData\\Local\\Temp\\ipykernel_22104\\1219244796.py:10: UserWarning: *c* argument looks like a single numeric RGB or RGBA sequence, which should be avoided as value-mapping will have precedence in case its length matches with *x* & *y*.  Please use the *color* keyword-argument or provide a 2D array with a single row if you intend to specify the same RGB or RGBA value for all points.\n",
            "  plt.scatter(x_set[y_set == j, 0], x_set[y_set == j, 1],\n"
          ]
        },
        {
          "data": {
            "image/png": "[encoded data removed]",
            "text/plain": [
              "<Figure size 640x480 with 1 Axes>"
            ]
          },
          "metadata": {},
          "output_type": "display_data"
        }
      ],
      "source": [
        "from matplotlib.colors import ListedColormap\n",
        "x_set, y_set = x_test, y_test\n",
        "x1, x2 = np.meshgrid(np.arange(start=x_set[:, 0].min()-1, stop=x_set[:, 0].max()+1, step=0.01),\n",
        "                     np.arange(start=x_set[:, 1].min()-1, stop=x_set[:, 1].max()+1, step=0.01))\n",
        "plt.contourf(x1, x2, classifier.predict(np.array([x1.ravel(), x2.ravel()]).T).reshape(x1.shape),\n",
        "             alpha = 0.75, cmap = ListedColormap(('red', 'green')))\n",
        "plt.xlim(x1.min(), x1.max())\n",
        "plt.ylim(x2.min(), x2.max())\n",
        "for i, j in enumerate (np.unique(y_set)):\n",
        "  plt.scatter(x_set[y_set == j, 0], x_set[y_set == j, 1],\n",
        "              c = ListedColormap(('red', 'green'))(i), label = j)\n",
        "plt.title('K-NN (Testing Set)')\n",
        "plt.xlabel('Glucose')\n",
        "plt.ylabel('BloodPressure')\n",
        "plt.legend()\n",
        "plt.show()"
      ]
    }
  ],
  "metadata": {
    "colab": {
      "provenance": []
    },
    "kernelspec": {
      "display_name": "Python 3",
      "name": "python3"
    },
    "language_info": {
      "codemirror_mode": {
        "name": "ipython",
        "version": 3
      },
      "file_extension": ".py",
      "mimetype": "text/x-python",
      "name": "python",
      "nbconvert_exporter": "python",
      "pygments_lexer": "ipython3",
      "version": "3.11.2"
    }
  },
  "nbformat": 4,
  "nbformat_minor": 0
}
