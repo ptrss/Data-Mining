{
 "cells": [
  {
   "cell_type": "code",
   "execution_count": 1,
   "metadata": {},
   "outputs": [],
   "source": [
    "import numpy as np\n",
    "import matplotlib.pyplot as plt\n",
    "import pandas as pd"
   ]
  },
  {
   "cell_type": "code",
   "execution_count": 2,
   "metadata": {},
   "outputs": [
    {
     "data": {
      "text/plain": [
       "glucose          False\n",
       "bloodpressure    False\n",
       "diabetes         False\n",
       "dtype: bool"
      ]
     },
     "execution_count": 2,
     "metadata": {},
     "output_type": "execute_result"
    }
   ],
   "source": [
    "# Read the dataset\n",
    "dataset = pd.read_csv('Naive-Bayes-Classification-Data.csv')\n",
    "dataset.isnull().any()"
   ]
  },
  {
   "cell_type": "code",
   "execution_count": 3,
   "metadata": {},
   "outputs": [
    {
     "name": "stdout",
     "output_type": "stream",
     "text": [
      "<class 'pandas.core.frame.DataFrame'>\n",
      "RangeIndex: 995 entries, 0 to 994\n",
      "Data columns (total 3 columns):\n",
      " #   Column         Non-Null Count  Dtype\n",
      "---  ------         --------------  -----\n",
      " 0   glucose        995 non-null    int64\n",
      " 1   bloodpressure  995 non-null    int64\n",
      " 2   diabetes       995 non-null    int64\n",
      "dtypes: int64(3)\n",
      "memory usage: 23.4 KB\n"
     ]
    }
   ],
   "source": [
    "# Memilih fitur dan label yang akan digunakan\n",
    "x = dataset.iloc[:, :-1]\n",
    "y = dataset.iloc[:, -1]\n",
    "dataset.info()"
   ]
  },
  {
   "cell_type": "code",
   "execution_count": 4,
   "metadata": {},
   "outputs": [
    {
     "data": {
      "text/html": [
       "<div>\n",
       "<style scoped>\n",
       "    .dataframe tbody tr th:only-of-type {\n",
       "        vertical-align: middle;\n",
       "    }\n",
       "\n",
       "    .dataframe tbody tr th {\n",
       "        vertical-align: top;\n",
       "    }\n",
       "\n",
       "    .dataframe thead th {\n",
       "        text-align: right;\n",
       "    }\n",
       "</style>\n",
       "<table border=\"1\" class=\"dataframe\">\n",
       "  <thead>\n",
       "    <tr style=\"text-align: right;\">\n",
       "      <th></th>\n",
       "      <th>glucose</th>\n",
       "      <th>bloodpressure</th>\n",
       "      <th>diabetes</th>\n",
       "    </tr>\n",
       "  </thead>\n",
       "  <tbody>\n",
       "    <tr>\n",
       "      <th>count</th>\n",
       "      <td>995.000000</td>\n",
       "      <td>995.000000</td>\n",
       "      <td>995.000000</td>\n",
       "    </tr>\n",
       "    <tr>\n",
       "      <th>mean</th>\n",
       "      <td>44.306533</td>\n",
       "      <td>79.184925</td>\n",
       "      <td>0.500503</td>\n",
       "    </tr>\n",
       "    <tr>\n",
       "      <th>std</th>\n",
       "      <td>6.707567</td>\n",
       "      <td>9.340204</td>\n",
       "      <td>0.500251</td>\n",
       "    </tr>\n",
       "    <tr>\n",
       "      <th>min</th>\n",
       "      <td>20.000000</td>\n",
       "      <td>50.000000</td>\n",
       "      <td>0.000000</td>\n",
       "    </tr>\n",
       "    <tr>\n",
       "      <th>25%</th>\n",
       "      <td>40.000000</td>\n",
       "      <td>72.000000</td>\n",
       "      <td>0.000000</td>\n",
       "    </tr>\n",
       "    <tr>\n",
       "      <th>50%</th>\n",
       "      <td>45.000000</td>\n",
       "      <td>80.000000</td>\n",
       "      <td>1.000000</td>\n",
       "    </tr>\n",
       "    <tr>\n",
       "      <th>75%</th>\n",
       "      <td>50.000000</td>\n",
       "      <td>87.000000</td>\n",
       "      <td>1.000000</td>\n",
       "    </tr>\n",
       "    <tr>\n",
       "      <th>max</th>\n",
       "      <td>70.000000</td>\n",
       "      <td>100.000000</td>\n",
       "      <td>1.000000</td>\n",
       "    </tr>\n",
       "  </tbody>\n",
       "</table>\n",
       "</div>"
      ],
      "text/plain": [
       "          glucose  bloodpressure    diabetes\n",
       "count  995.000000     995.000000  995.000000\n",
       "mean    44.306533      79.184925    0.500503\n",
       "std      6.707567       9.340204    0.500251\n",
       "min     20.000000      50.000000    0.000000\n",
       "25%     40.000000      72.000000    0.000000\n",
       "50%     45.000000      80.000000    1.000000\n",
       "75%     50.000000      87.000000    1.000000\n",
       "max     70.000000     100.000000    1.000000"
      ]
     },
     "execution_count": 4,
     "metadata": {},
     "output_type": "execute_result"
    }
   ],
   "source": [
    "dataset.describe()"
   ]
  },
  {
   "cell_type": "code",
   "execution_count": 5,
   "metadata": {},
   "outputs": [
    {
     "name": "stdout",
     "output_type": "stream",
     "text": [
      "     glucose  bloodpressure\n",
      "0         40             85\n",
      "1         40             92\n",
      "2         45             63\n",
      "3         45             80\n",
      "4         40             73\n",
      "..       ...            ...\n",
      "990       45             87\n",
      "991       40             83\n",
      "992       40             83\n",
      "993       40             60\n",
      "994       45             82\n",
      "\n",
      "[995 rows x 2 columns]\n",
      "0      0\n",
      "1      0\n",
      "2      1\n",
      "3      0\n",
      "4      1\n",
      "      ..\n",
      "990    0\n",
      "991    0\n",
      "992    0\n",
      "993    1\n",
      "994    0\n",
      "Name: diabetes, Length: 995, dtype: int64\n"
     ]
    }
   ],
   "source": [
    "print(x)\n",
    "print(y)"
   ]
  },
  {
   "cell_type": "code",
   "execution_count": 6,
   "metadata": {},
   "outputs": [],
   "source": [
    "# Split\n",
    "from sklearn.model_selection import train_test_split\n",
    "\n",
    "x_train, x_test, y_train, y_test = train_test_split(x, y, test_size=0.25, random_state=0)"
   ]
  },
  {
   "cell_type": "code",
   "execution_count": 7,
   "metadata": {},
   "outputs": [
    {
     "name": "stdout",
     "output_type": "stream",
     "text": [
      "     glucose  bloodpressure\n",
      "457       45             90\n",
      "317       45             73\n",
      "1         40             92\n",
      "38        45             88\n",
      "367       35             70\n",
      "..       ...            ...\n",
      "835       40             65\n",
      "192       45             85\n",
      "629       40             83\n",
      "559       50             90\n",
      "684       50             75\n",
      "\n",
      "[746 rows x 2 columns]\n",
      "     glucose  bloodpressure\n",
      "420       55             73\n",
      "985       40             73\n",
      "31        50             68\n",
      "692       40             82\n",
      "553       40             85\n",
      "..       ...            ...\n",
      "75        50             67\n",
      "451       35             72\n",
      "988       45             90\n",
      "249       50             73\n",
      "987       45             90\n",
      "\n",
      "[249 rows x 2 columns]\n"
     ]
    }
   ],
   "source": [
    "print(x_train)\n",
    "print(x_test)"
   ]
  },
  {
   "cell_type": "code",
   "execution_count": 8,
   "metadata": {},
   "outputs": [
    {
     "name": "stdout",
     "output_type": "stream",
     "text": [
      "457    0\n",
      "317    0\n",
      "1      0\n",
      "38     0\n",
      "367    1\n",
      "      ..\n",
      "835    1\n",
      "192    0\n",
      "629    0\n",
      "559    0\n",
      "684    1\n",
      "Name: diabetes, Length: 746, dtype: int64\n",
      "420    1\n",
      "985    1\n",
      "31     1\n",
      "692    1\n",
      "553    0\n",
      "      ..\n",
      "75     1\n",
      "451    1\n",
      "988    0\n",
      "249    1\n",
      "987    0\n",
      "Name: diabetes, Length: 249, dtype: int64\n"
     ]
    }
   ],
   "source": [
    "print(y_train)\n",
    "print(y_test)"
   ]
  },
  {
   "cell_type": "code",
   "execution_count": 22,
   "metadata": {},
   "outputs": [],
   "source": [
    "# Scaling\n",
    "# from sklearn.preprocessing import MinMaxScaler\n",
    "# sc = MinMaxScaler()\n",
    "from sklearn.preprocessing import StandardScaler\n",
    "\n",
    "sc = StandardScaler()\n",
    "x_train = sc.fit_transform(x_train)\n",
    "x_test = sc.transform(x_test)"
   ]
  },
  {
   "cell_type": "code",
   "execution_count": 23,
   "metadata": {},
   "outputs": [
    {
     "name": "stdout",
     "output_type": "stream",
     "text": [
      "[[ 0.08705845  1.11441825]\n",
      " [ 0.08705845 -0.71533994]\n",
      " [-0.66812298  1.32968392]\n",
      " ...\n",
      " [-0.66812298  0.36098841]\n",
      " [ 0.84223987  1.11441825]\n",
      " [ 0.84223987 -0.50007427]]\n",
      "[[ 1.5974213  -0.71533994]\n",
      " [-0.66812298 -0.71533994]\n",
      " [ 0.84223987 -1.25350411]\n",
      " [-0.66812298  0.25335557]\n",
      " [-0.66812298  0.57625408]\n",
      " [ 0.84223987  1.65258242]\n",
      " [ 0.84223987 -1.03823844]\n",
      " [-0.66812298 -1.36113694]\n",
      " [ 0.08705845  0.25335557]\n",
      " [ 0.08705845 -1.25350411]\n",
      " [ 0.08705845  1.65258242]\n",
      " [ 0.08705845  0.79151975]\n",
      " [-0.66812298 -1.03823844]\n",
      " [ 2.35260273 -1.79166828]\n",
      " [ 0.08705845 -1.36113694]\n",
      " [-0.66812298 -0.2848086 ]\n",
      " [ 0.08705845 -0.50007427]\n",
      " [ 0.08705845  1.32968392]\n",
      " [-0.66812298 -1.03823844]\n",
      " [-1.4233044   0.0380899 ]\n",
      " [-0.66812298  0.89915258]\n",
      " [-0.66812298  0.89915258]\n",
      " [-0.66812298  0.0380899 ]\n",
      " [-0.66812298  0.36098841]\n",
      " [ 0.84223987 -1.36113694]\n",
      " [-1.4233044  -1.36113694]\n",
      " [ 0.08705845 -0.71533994]\n",
      " [-0.66812298  0.0380899 ]\n",
      " [ 0.08705845  0.36098841]\n",
      " [ 0.08705845  0.57625408]\n",
      " [-1.4233044  -1.36113694]\n",
      " [ 0.84223987 -1.03823844]\n",
      " [ 0.84223987  1.11441825]\n",
      " [-0.66812298  1.32968392]\n",
      " [-0.66812298  0.36098841]\n",
      " [ 0.84223987 -0.2848086 ]\n",
      " [ 0.08705845  0.36098841]\n",
      " [-0.66812298 -1.03823844]\n",
      " [-0.66812298 -1.57640261]\n",
      " [ 0.84223987 -1.57640261]\n",
      " [ 1.5974213  -1.57640261]\n",
      " [ 1.5974213  -0.50007427]\n",
      " [-0.66812298  1.11441825]\n",
      " [ 0.08705845  1.32968392]\n",
      " [ 0.08705845  1.11441825]\n",
      " [ 0.84223987 -0.2848086 ]\n",
      " [ 0.84223987  0.89915258]\n",
      " [-2.17848583  0.0380899 ]\n",
      " [-0.66812298  0.36098841]\n",
      " [ 0.08705845  1.32968392]\n",
      " [ 0.08705845  0.89915258]\n",
      " [ 0.08705845  1.11441825]\n",
      " [ 0.08705845 -0.17717577]\n",
      " [ 0.08705845  0.89915258]\n",
      " [ 0.08705845  0.89915258]\n",
      " [-0.66812298  0.79151975]\n",
      " [ 1.5974213   0.79151975]\n",
      " [ 0.84223987 -0.17717577]\n",
      " [-2.17848583 -1.03823844]\n",
      " [ 0.84223987  0.57625408]\n",
      " [ 1.5974213  -1.25350411]\n",
      " [ 0.08705845  0.0380899 ]\n",
      " [-3.68884868 -1.03823844]\n",
      " [-0.66812298  1.11441825]\n",
      " [-0.66812298 -1.36113694]\n",
      " [-1.4233044   0.36098841]\n",
      " [ 0.08705845  0.79151975]\n",
      " [-0.66812298 -1.03823844]\n",
      " [-1.4233044  -0.2848086 ]\n",
      " [ 1.5974213  -1.25350411]\n",
      " [-0.66812298  0.79151975]\n",
      " [-0.66812298 -1.36113694]\n",
      " [ 0.08705845  0.25335557]\n",
      " [-2.17848583 -0.2848086 ]\n",
      " [-0.66812298  0.89915258]\n",
      " [-0.66812298 -1.79166828]\n",
      " [-0.66812298 -0.50007427]\n",
      " [ 0.84223987 -2.11456679]\n",
      " [ 0.84223987  0.36098841]\n",
      " [ 0.08705845 -0.2848086 ]\n",
      " [ 0.84223987  0.36098841]\n",
      " [ 1.5974213  -2.11456679]\n",
      " [ 1.5974213  -1.36113694]\n",
      " [ 0.84223987 -0.2848086 ]\n",
      " [-1.4233044   0.79151975]\n",
      " [-1.4233044  -1.03823844]\n",
      " [ 0.08705845  0.36098841]\n",
      " [-0.66812298  0.79151975]\n",
      " [ 0.08705845 -0.2848086 ]\n",
      " [ 0.08705845  0.57625408]\n",
      " [ 0.84223987 -2.32983245]\n",
      " [ 0.08705845  0.79151975]\n",
      " [-0.66812298  1.11441825]\n",
      " [ 0.08705845  0.25335557]\n",
      " [ 1.5974213  -1.79166828]\n",
      " [ 0.08705845  0.79151975]\n",
      " [-1.4233044  -1.25350411]\n",
      " [-0.66812298  0.57625408]\n",
      " [-0.66812298  1.11441825]\n",
      " [-0.66812298 -0.17717577]\n",
      " [ 0.84223987  0.89915258]\n",
      " [ 0.08705845  0.25335557]\n",
      " [-1.4233044  -0.17717577]\n",
      " [ 0.08705845  0.25335557]\n",
      " [ 0.08705845  0.0380899 ]\n",
      " [ 0.08705845  1.65258242]\n",
      " [-1.4233044   1.11441825]\n",
      " [ 0.08705845 -0.50007427]\n",
      " [ 1.5974213  -1.36113694]\n",
      " [ 0.08705845  0.89915258]\n",
      " [ 0.08705845  0.0380899 ]\n",
      " [-0.66812298 -1.36113694]\n",
      " [ 0.08705845 -1.25350411]\n",
      " [-0.66812298  1.43731675]\n",
      " [ 0.84223987 -0.71533994]\n",
      " [-2.17848583 -0.71533994]\n",
      " [ 0.08705845  0.0380899 ]\n",
      " [-0.66812298  0.25335557]\n",
      " [-0.66812298  0.0380899 ]\n",
      " [ 0.84223987 -0.71533994]\n",
      " [ 0.84223987 -0.2848086 ]\n",
      " [-0.66812298  0.57625408]\n",
      " [ 0.84223987 -1.25350411]\n",
      " [-0.66812298 -0.17717577]\n",
      " [ 0.08705845 -1.89930112]\n",
      " [ 0.08705845  0.57625408]\n",
      " [ 0.84223987  0.89915258]\n",
      " [ 1.5974213  -1.25350411]\n",
      " [-0.66812298 -0.82297277]\n",
      " [ 0.08705845  0.79151975]\n",
      " [-1.4233044  -0.82297277]\n",
      " [ 3.10778415 -1.57640261]\n",
      " [ 0.08705845 -0.17717577]\n",
      " [ 0.08705845 -0.2848086 ]\n",
      " [ 0.08705845  1.32968392]\n",
      " [-0.66812298  1.43731675]\n",
      " [ 0.84223987 -1.57640261]\n",
      " [-0.66812298 -0.82297277]\n",
      " [-0.66812298  0.89915258]\n",
      " [-0.66812298  0.79151975]\n",
      " [ 0.08705845 -2.43746529]\n",
      " [ 0.08705845 -0.82297277]\n",
      " [ 0.84223987 -1.25350411]\n",
      " [ 0.08705845 -1.03823844]\n",
      " [-0.66812298  0.36098841]\n",
      " [ 0.08705845 -0.2848086 ]\n",
      " [ 0.08705845  0.89915258]\n",
      " [-0.66812298  0.25335557]\n",
      " [-0.66812298  0.79151975]\n",
      " [ 0.08705845 -0.71533994]\n",
      " [ 2.35260273 -1.25350411]\n",
      " [-0.66812298  1.32968392]\n",
      " [-0.66812298 -1.25350411]\n",
      " [ 0.84223987  0.0380899 ]\n",
      " [ 1.5974213  -0.17717577]\n",
      " [ 0.08705845  0.25335557]\n",
      " [-1.4233044  -0.17717577]\n",
      " [ 0.84223987 -1.36113694]\n",
      " [-0.66812298 -0.82297277]\n",
      " [-2.93366725 -0.71533994]\n",
      " [-1.4233044   0.89915258]\n",
      " [ 0.84223987 -1.89930112]\n",
      " [ 0.84223987  1.11441825]\n",
      " [ 0.08705845  1.11441825]\n",
      " [ 0.08705845 -0.82297277]\n",
      " [-0.66812298  1.32968392]\n",
      " [-1.4233044   0.0380899 ]\n",
      " [-2.17848583  0.25335557]\n",
      " [-0.66812298 -0.50007427]\n",
      " [ 0.08705845  0.36098841]\n",
      " [ 0.84223987  0.25335557]\n",
      " [-0.66812298  0.36098841]\n",
      " [ 0.84223987  0.0380899 ]\n",
      " [ 0.08705845  0.36098841]\n",
      " [-0.66812298  1.32968392]\n",
      " [ 0.08705845  0.36098841]\n",
      " [ 0.08705845  0.36098841]\n",
      " [ 0.08705845 -0.50007427]\n",
      " [-0.66812298 -0.71533994]\n",
      " [ 0.08705845 -1.25350411]\n",
      " [ 1.5974213  -1.25350411]\n",
      " [ 0.08705845  1.43731675]\n",
      " [-2.17848583 -0.50007427]\n",
      " [-1.4233044  -1.89930112]\n",
      " [ 1.5974213   1.43731675]\n",
      " [ 0.08705845  0.25335557]\n",
      " [-0.66812298 -2.11456679]\n",
      " [ 0.84223987  0.0380899 ]\n",
      " [-0.66812298 -1.03823844]\n",
      " [-0.66812298 -0.2848086 ]\n",
      " [ 0.08705845  0.89915258]\n",
      " [ 0.08705845 -0.2848086 ]\n",
      " [-0.66812298  0.57625408]\n",
      " [ 0.84223987 -2.32983245]\n",
      " [ 2.35260273 -1.25350411]\n",
      " [-0.66812298  0.36098841]\n",
      " [ 0.08705845 -0.50007427]\n",
      " [ 0.08705845  0.0380899 ]\n",
      " [ 3.86296558 -1.89930112]\n",
      " [ 0.08705845 -0.71533994]\n",
      " [ 0.08705845 -2.11456679]\n",
      " [-0.66812298  0.79151975]\n",
      " [ 1.5974213  -2.11456679]\n",
      " [ 0.08705845 -0.71533994]\n",
      " [-0.66812298 -1.57640261]\n",
      " [-0.66812298 -1.36113694]\n",
      " [-0.66812298  0.79151975]\n",
      " [-0.66812298  1.11441825]\n",
      " [-0.66812298 -0.71533994]\n",
      " [ 0.08705845 -0.17717577]\n",
      " [-0.66812298 -1.25350411]\n",
      " [ 2.35260273 -1.89930112]\n",
      " [ 0.08705845  0.25335557]\n",
      " [ 1.5974213  -0.50007427]\n",
      " [-2.93366725 -1.03823844]\n",
      " [-0.66812298 -0.50007427]\n",
      " [-1.4233044   0.89915258]\n",
      " [-0.66812298 -0.17717577]\n",
      " [-0.66812298  0.89915258]\n",
      " [-0.66812298 -0.50007427]\n",
      " [-1.4233044  -0.50007427]\n",
      " [-0.66812298  0.79151975]\n",
      " [ 0.08705845 -0.71533994]\n",
      " [ 0.84223987  1.11441825]\n",
      " [ 0.08705845 -0.82297277]\n",
      " [-1.4233044  -0.2848086 ]\n",
      " [-1.4233044  -1.89930112]\n",
      " [ 0.08705845 -1.25350411]\n",
      " [ 1.5974213  -1.79166828]\n",
      " [ 0.08705845  0.25335557]\n",
      " [ 0.84223987  0.36098841]\n",
      " [ 1.5974213  -0.82297277]\n",
      " [ 0.84223987 -1.36113694]\n",
      " [-1.4233044  -1.03823844]\n",
      " [ 0.08705845  1.86784809]\n",
      " [ 0.08705845  0.25335557]\n",
      " [-0.66812298  0.79151975]\n",
      " [ 0.08705845 -1.79166828]\n",
      " [ 2.35260273 -1.79166828]\n",
      " [-3.68884868  0.0380899 ]\n",
      " [ 0.08705845 -0.17717577]\n",
      " [-0.66812298  0.79151975]\n",
      " [ 0.84223987 -1.03823844]\n",
      " [ 0.08705845  1.11441825]\n",
      " [ 0.84223987 -1.36113694]\n",
      " [-1.4233044  -0.82297277]\n",
      " [ 0.08705845  1.11441825]\n",
      " [ 0.84223987 -0.71533994]\n",
      " [ 0.08705845  1.11441825]]\n"
     ]
    }
   ],
   "source": [
    "print(x_train)\n",
    "print(x_test)"
   ]
  },
  {
   "cell_type": "code",
   "execution_count": 24,
   "metadata": {},
   "outputs": [
    {
     "data": {
      "text/html": [
       "<style>#sk-container-id-2 {color: black;background-color: white;}#sk-container-id-2 pre{padding: 0;}#sk-container-id-2 div.sk-toggleable {background-color: white;}#sk-container-id-2 label.sk-toggleable__label {cursor: pointer;display: block;width: 100%;margin-bottom: 0;padding: 0.3em;box-sizing: border-box;text-align: center;}#sk-container-id-2 label.sk-toggleable__label-arrow:before {content: \"▸\";float: left;margin-right: 0.25em;color: #696969;}#sk-container-id-2 label.sk-toggleable__label-arrow:hover:before {color: black;}#sk-container-id-2 div.sk-estimator:hover label.sk-toggleable__label-arrow:before {color: black;}#sk-container-id-2 div.sk-toggleable__content {max-height: 0;max-width: 0;overflow: hidden;text-align: left;background-color: #f0f8ff;}#sk-container-id-2 div.sk-toggleable__content pre {margin: 0.2em;color: black;border-radius: 0.25em;background-color: #f0f8ff;}#sk-container-id-2 input.sk-toggleable__control:checked~div.sk-toggleable__content {max-height: 200px;max-width: 100%;overflow: auto;}#sk-container-id-2 input.sk-toggleable__control:checked~label.sk-toggleable__label-arrow:before {content: \"▾\";}#sk-container-id-2 div.sk-estimator input.sk-toggleable__control:checked~label.sk-toggleable__label {background-color: #d4ebff;}#sk-container-id-2 div.sk-label input.sk-toggleable__control:checked~label.sk-toggleable__label {background-color: #d4ebff;}#sk-container-id-2 input.sk-hidden--visually {border: 0;clip: rect(1px 1px 1px 1px);clip: rect(1px, 1px, 1px, 1px);height: 1px;margin: -1px;overflow: hidden;padding: 0;position: absolute;width: 1px;}#sk-container-id-2 div.sk-estimator {font-family: monospace;background-color: #f0f8ff;border: 1px dotted black;border-radius: 0.25em;box-sizing: border-box;margin-bottom: 0.5em;}#sk-container-id-2 div.sk-estimator:hover {background-color: #d4ebff;}#sk-container-id-2 div.sk-parallel-item::after {content: \"\";width: 100%;border-bottom: 1px solid gray;flex-grow: 1;}#sk-container-id-2 div.sk-label:hover label.sk-toggleable__label {background-color: #d4ebff;}#sk-container-id-2 div.sk-serial::before {content: \"\";position: absolute;border-left: 1px solid gray;box-sizing: border-box;top: 0;bottom: 0;left: 50%;z-index: 0;}#sk-container-id-2 div.sk-serial {display: flex;flex-direction: column;align-items: center;background-color: white;padding-right: 0.2em;padding-left: 0.2em;position: relative;}#sk-container-id-2 div.sk-item {position: relative;z-index: 1;}#sk-container-id-2 div.sk-parallel {display: flex;align-items: stretch;justify-content: center;background-color: white;position: relative;}#sk-container-id-2 div.sk-item::before, #sk-container-id-2 div.sk-parallel-item::before {content: \"\";position: absolute;border-left: 1px solid gray;box-sizing: border-box;top: 0;bottom: 0;left: 50%;z-index: -1;}#sk-container-id-2 div.sk-parallel-item {display: flex;flex-direction: column;z-index: 1;position: relative;background-color: white;}#sk-container-id-2 div.sk-parallel-item:first-child::after {align-self: flex-end;width: 50%;}#sk-container-id-2 div.sk-parallel-item:last-child::after {align-self: flex-start;width: 50%;}#sk-container-id-2 div.sk-parallel-item:only-child::after {width: 0;}#sk-container-id-2 div.sk-dashed-wrapped {border: 1px dashed gray;margin: 0 0.4em 0.5em 0.4em;box-sizing: border-box;padding-bottom: 0.4em;background-color: white;}#sk-container-id-2 div.sk-label label {font-family: monospace;font-weight: bold;display: inline-block;line-height: 1.2em;}#sk-container-id-2 div.sk-label-container {text-align: center;}#sk-container-id-2 div.sk-container {/* jupyter's `normalize.less` sets `[hidden] { display: none; }` but bootstrap.min.css set `[hidden] { display: none !important; }` so we also need the `!important` here to be able to override the default hidden behavior on the sphinx rendered scikit-learn.org. See: https://github.com/scikit-learn/scikit-learn/issues/21755 */display: inline-block !important;position: relative;}#sk-container-id-2 div.sk-text-repr-fallback {display: none;}</style><div id=\"sk-container-id-2\" class=\"sk-top-container\"><div class=\"sk-text-repr-fallback\"><pre>GaussianNB()</pre><b>In a Jupyter environment, please rerun this cell to show the HTML representation or trust the notebook. <br />On GitHub, the HTML representation is unable to render, please try loading this page with nbviewer.org.</b></div><div class=\"sk-container\" hidden><div class=\"sk-item\"><div class=\"sk-estimator sk-toggleable\"><input class=\"sk-toggleable__control sk-hidden--visually\" id=\"sk-estimator-id-2\" type=\"checkbox\" checked><label for=\"sk-estimator-id-2\" class=\"sk-toggleable__label sk-toggleable__label-arrow\">GaussianNB</label><div class=\"sk-toggleable__content\"><pre>GaussianNB()</pre></div></div></div></div></div>"
      ],
      "text/plain": [
       "GaussianNB()"
      ]
     },
     "execution_count": 24,
     "metadata": {},
     "output_type": "execute_result"
    }
   ],
   "source": [
    "# Training the Naive Bayes model on the Training set\n",
    "from sklearn.naive_bayes import GaussianNB\n",
    "\n",
    "classifier = GaussianNB()\n",
    "classifier.fit(x_train, y_train)"
   ]
  },
  {
   "cell_type": "code",
   "execution_count": 25,
   "metadata": {},
   "outputs": [
    {
     "name": "stdout",
     "output_type": "stream",
     "text": [
      "[1 1 1 0 0 0 1 1 0 1 0 0 1 1 1 1 1 0 1 1 0 0 0 0 1 1 1 0 0 0 1 1 0 0 0 1 0\n",
      " 1 1 1 1 1 0 0 0 1 0 1 0 0 0 0 1 0 0 0 0 1 1 0 1 0 1 0 1 0 0 1 1 1 0 1 0 1\n",
      " 0 1 1 1 0 1 0 1 1 1 0 1 0 0 1 0 1 0 0 0 1 0 1 0 0 1 0 0 1 0 0 0 0 1 1 0 0\n",
      " 1 1 0 1 1 0 0 0 1 1 0 1 1 1 0 0 1 1 0 1 1 1 1 0 0 1 1 0 0 1 1 1 1 0 1 0 0\n",
      " 0 1 1 0 1 1 1 0 1 1 1 1 0 1 0 0 1 0 1 1 1 0 0 0 1 0 0 0 0 1 1 1 1 0 1 1 0\n",
      " 0 1 1 1 1 0 1 0 1 1 0 1 0 1 1 1 0 1 1 1 1 0 0 1 1 1 1 0 1 1 1 0 1 0 1 1 0\n",
      " 1 0 1 1 1 1 1 0 0 1 1 1 0 0 0 1 1 1 1 0 1 0 1 1 0 1 0]\n"
     ]
    }
   ],
   "source": [
    "y_pred = classifier.predict(x_test)\n",
    "print(y_pred)"
   ]
  },
  {
   "cell_type": "code",
   "execution_count": 26,
   "metadata": {},
   "outputs": [],
   "source": [
    "# Predicting the test set results\n",
    "y_pred = classifier.predict(x_test)"
   ]
  },
  {
   "cell_type": "code",
   "execution_count": 27,
   "metadata": {},
   "outputs": [
    {
     "name": "stdout",
     "output_type": "stream",
     "text": [
      "[[ 98   6]\n",
      " [ 13 132]]\n"
     ]
    }
   ],
   "source": [
    "# Making the Confusion Matrix\n",
    "from sklearn.metrics import confusion_matrix\n",
    "\n",
    "cm = confusion_matrix(y_test, y_pred)\n",
    "print(cm)"
   ]
  },
  {
   "cell_type": "code",
   "execution_count": 28,
   "metadata": {},
   "outputs": [
    {
     "name": "stderr",
     "output_type": "stream",
     "text": [
      "C:\\Users\\LENOVO\\AppData\\Local\\Temp\\ipykernel_17912\\158800047.py:12: UserWarning: *c* argument looks like a single numeric RGB or RGBA sequence, which should be avoided as value-mapping will have precedence in case its length matches with *x* & *y*.  Please use the *color* keyword-argument or provide a 2D array with a single row if you intend to specify the same RGB or RGBA value for all points.\n",
      "  plt.scatter(x_set[y_set==j, 0], x_set[y_set==j, 1],\n"
     ]
    },
    {
     "data": {
      "image/png": "[encoded data removed]",
      "text/plain": [
       "<Figure size 640x480 with 1 Axes>"
      ]
     },
     "metadata": {},
     "output_type": "display_data"
    }
   ],
   "source": [
    "# Visualize\n",
    "from matplotlib.colors import ListedColormap\n",
    "\n",
    "x_set, y_set = x_train, y_train\n",
    "x1, x2 = np.meshgrid(np.arange(start=x_set[:,0].min()-1, stop=x_set[:,0].max()+1, step=0.01),\n",
    "                     np.arange(start=x_set[:,1].min()-1, stop=x_set[:,1].max()+1, step=0.01))\n",
    "plt.contourf(x1, x2, classifier.predict(np.array([x1.ravel(), x2.ravel()]).T).reshape(x1.shape),\n",
    "            alpha=0.75, cmap=ListedColormap(('red', 'green')))\n",
    "plt.xlim(x1.min(), x1.max())\n",
    "plt.ylim(x2.min(), x2.max())\n",
    "for i, j in enumerate(np.unique(y_set)):\n",
    "    plt.scatter(x_set[y_set==j, 0], x_set[y_set==j, 1], \n",
    "                c = ListedColormap(('red', 'green'))(i), label=j)\n",
    "plt.title('Naive Bayes (Training set)')\n",
    "plt.xlabel('Glucose')\n",
    "plt.ylabel('BloodPressure')\n",
    "plt.legend()\n",
    "plt.show()\n"
   ]
  },
  {
   "cell_type": "code",
   "execution_count": 29,
   "metadata": {},
   "outputs": [
    {
     "name": "stderr",
     "output_type": "stream",
     "text": [
      "C:\\Users\\LENOVO\\AppData\\Local\\Temp\\ipykernel_17912\\1522411058.py:11: UserWarning: *c* argument looks like a single numeric RGB or RGBA sequence, which should be avoided as value-mapping will have precedence in case its length matches with *x* & *y*.  Please use the *color* keyword-argument or provide a 2D array with a single row if you intend to specify the same RGB or RGBA value for all points.\n",
      "  plt.scatter(x_set[y_set==j, 0], x_set[y_set==j, 1],\n"
     ]
    },
    {
     "data": {
      "image/png": "[encoded data removed]",
      "text/plain": [
       "<Figure size 640x480 with 1 Axes>"
      ]
     },
     "metadata": {},
     "output_type": "display_data"
    }
   ],
   "source": [
    "from matplotlib.colors import ListedColormap\n",
    "\n",
    "x_set, y_set = x_train, y_train\n",
    "x1, x2 = np.meshgrid(np.arange(start=x_set[:,0].min()-1, stop=x_set[:,0].max()+1, step=0.01),\n",
    "                     np.arange(start=x_set[:,1].min()-1, stop=x_set[:,1].max()+1, step=0.01))\n",
    "plt.contourf(x1, x2, classifier.predict(np.array([x1.ravel(), x2.ravel()]).T).reshape(x1.shape),\n",
    "            alpha=0.75, cmap=ListedColormap(('red', 'green')))\n",
    "plt.xlim(x1.min(), x1.max())\n",
    "plt.ylim(x2.min(), x2.max())\n",
    "for i, j in enumerate(np.unique(y_set)):\n",
    "    plt.scatter(x_set[y_set==j, 0], x_set[y_set==j, 1], \n",
    "                c = ListedColormap(('red', 'green'))(i), label=j)\n",
    "plt.title('Naive Bayes (Testing set)')\n",
    "plt.xlabel('Glucose')\n",
    "plt.ylabel('BloodPresure')\n",
    "plt.legend()\n",
    "plt.show()"
   ]
  }
 ],
 "metadata": {
  "kernelspec": {
   "display_name": "Python 3",
   "language": "python",
   "name": "python3"
  },
  "language_info": {
   "codemirror_mode": {
    "name": "ipython",
    "version": 3
   },
   "file_extension": ".py",
   "mimetype": "text/x-python",
   "name": "python",
   "nbconvert_exporter": "python",
   "pygments_lexer": "ipython3",
   "version": "3.11.2"
  },
  "orig_nbformat": 4
 },
 "nbformat": 4,
 "nbformat_minor": 2
}
